{
 "cells": [
  {
   "cell_type": "code",
   "execution_count": 3,
   "metadata": {},
   "outputs": [],
   "source": [
    "from splinter import Browser\n",
    "from bs4 import BeautifulSoup as bs\n",
    "import time\n",
    "import pandas as pd\n",
    "from pprint import pprint"
   ]
  },
  {
   "cell_type": "code",
   "execution_count": 4,
   "metadata": {},
   "outputs": [],
   "source": [
    "#############################################################\n",
    "# define a function to initiate browser\n",
    "def init_browser():\n",
    "    executable_path = {\"executable_path\": \"C:/chromedriver.exe\"}\n",
    "    return Browser(\"chrome\", **executable_path, headless=False)"
   ]
  },
  {
   "cell_type": "code",
   "execution_count": 19,
   "metadata": {},
   "outputs": [],
   "source": [
    "# This was the last code chunk that was run and tested because it required the other function pieces to work first\n",
    "# the scrape_all utilizes the other functions defined, e.g. scrape_mars_twitter()\n",
    "# and put the returned values from these functions in a dictionary\n",
    "def scrape_all():\n",
    "    init_browser()\n",
    "    latest_news_title, latest_news_p = scrape_mars_news()\n",
    "    mars_all = {\n",
    "        \"news_title\": latest_news_title,\n",
    "        \"news_paragraph\": latest_news_p,\n",
    "        \"featured_image_url\": scrape_mars_image(),\n",
    "        \"weather\": scrape_mars_twitter(),\n",
    "        \"facts\": scrape_mars_facts(),\n",
    "        \"hemispheres\": mars_hemi(),\n",
    "    }\n",
    "    return mars_all"
   ]
  },
  {
   "cell_type": "code",
   "execution_count": 20,
   "metadata": {},
   "outputs": [
    {
     "data": {
      "text/plain": [
       "{'news_title': \"NASA's Mars 2020 Heads Into the Test Chamber\",\n",
       " 'news_paragraph': 'In this time-lapse video taken at JPL, engineers move the Mars 2020 rover into a large vacuum chamber for testing in Mars-like environmental conditions.',\n",
       " 'featured_image_url': 'https://www.jpl.nasa.gov/spaceimages/images/largesize/PIA18452_hires.jpg',\n",
       " 'weather': 'InSight sol 335 (2019-11-05) low -100.6ºC (-149.1ºF) high -24.3ºC (-11.8ºF) winds from the SSE at 4.9 m/s (10.9 mph) gusting to 19.9 m/s (44.5 mph) pressure at 6.90 hPa',\n",
       " 'facts': '<table border=\"1\" class=\"dataframe\">\\n  <thead>\\n    <tr style=\"text-align: right;\">\\n      <th></th>\\n      <th>Values</th>\\n    </tr>\\n    <tr>\\n      <th>Facts</th>\\n      <th></th>\\n    </tr>\\n  </thead>\\n  <tbody>\\n    <tr>\\n      <th>Equatorial Diameter:</th>\\n      <td>6,792 km</td>\\n    </tr>\\n    <tr>\\n      <th>Polar Diameter:</th>\\n      <td>6,752 km</td>\\n    </tr>\\n    <tr>\\n      <th>Mass:</th>\\n      <td>6.39 × 10^23 kg (0.11 Earths)</td>\\n    </tr>\\n    <tr>\\n      <th>Moons:</th>\\n      <td>2 (Phobos &amp; Deimos)</td>\\n    </tr>\\n    <tr>\\n      <th>Orbit Distance:</th>\\n      <td>227,943,824 km (1.38 AU)</td>\\n    </tr>\\n    <tr>\\n      <th>Orbit Period:</th>\\n      <td>687 days (1.9 years)</td>\\n    </tr>\\n    <tr>\\n      <th>Surface Temperature:</th>\\n      <td>-87 to -5 °C</td>\\n    </tr>\\n    <tr>\\n      <th>First Record:</th>\\n      <td>2nd millennium BC</td>\\n    </tr>\\n    <tr>\\n      <th>Recorded By:</th>\\n      <td>Egyptian astronomers</td>\\n    </tr>\\n  </tbody>\\n</table>',\n",
       " 'hemispheres': [{'title': 'Cerberus Hemisphere Enhanced',\n",
       "   'img_url': 'http://astropedia.astrogeology.usgs.gov/download/Mars/Viking/cerberus_enhanced.tif/full.jpg'},\n",
       "  {'title': 'Schiaparelli Hemisphere Enhanced',\n",
       "   'img_url': 'http://astropedia.astrogeology.usgs.gov/download/Mars/Viking/schiaparelli_enhanced.tif/full.jpg'},\n",
       "  {'title': 'Syrtis Major Hemisphere Enhanced',\n",
       "   'img_url': 'http://astropedia.astrogeology.usgs.gov/download/Mars/Viking/syrtis_major_enhanced.tif/full.jpg'},\n",
       "  {'title': 'Valles Marineris Hemisphere Enhanced',\n",
       "   'img_url': 'http://astropedia.astrogeology.usgs.gov/download/Mars/Viking/valles_marineris_enhanced.tif/full.jpg'}]}"
      ]
     },
     "execution_count": 20,
     "metadata": {},
     "output_type": "execute_result"
    }
   ],
   "source": [
    "scrape_all()"
   ]
  },
  {
   "cell_type": "code",
   "execution_count": 7,
   "metadata": {},
   "outputs": [],
   "source": [
    "########################################################\n",
    "# Scrape the NASA Mars News Site and collect the latest News Title and Paragraph Text. \n",
    "# Assign the text to variables that you can reference later.\n",
    "# Example:\n",
    "# news_title = \"NASA's Next Mars Mission to Investigate Interior of Red Planet\"\n",
    "# news_p = \"Preparation of NASA's next spacecraft to Mars, InSight, has ramped up this summer, on course for launch next May from Vandenberg Air Force Base in central California -- the first interplanetary launch in history from America's West Coast.\"\n",
    "\n",
    "def scrape_mars_news():\n",
    "    browser = init_browser()\n",
    "    \n",
    "    url = \"https://mars.nasa.gov/news/\"\n",
    "    browser.visit(url)\n",
    "    time.sleep(1)\n",
    "\n",
    "    # Scrape page into Soup\n",
    "    html = browser.html\n",
    "    news_soup = bs(html, \"html.parser\")\n",
    "    \n",
    "    latest_news_title = news_soup.find(\"div\", class_=\"content_title\").text\n",
    "    latest_news_p = news_soup.find(\"div\", class_=\"article_teaser_body\").text\n",
    "    \n",
    "    browser.quit()\n",
    "\n",
    "    # Return results\n",
    "    return latest_news_title, latest_news_p"
   ]
  },
  {
   "cell_type": "code",
   "execution_count": 8,
   "metadata": {},
   "outputs": [
    {
     "data": {
      "text/plain": [
       "(\"NASA's Mars 2020 Heads Into the Test Chamber\",\n",
       " 'In this time-lapse video taken at JPL, engineers move the Mars 2020 rover into a large vacuum chamber for testing in Mars-like environmental conditions.')"
      ]
     },
     "execution_count": 8,
     "metadata": {},
     "output_type": "execute_result"
    }
   ],
   "source": [
    "scrape_mars_news()"
   ]
  },
  {
   "cell_type": "code",
   "execution_count": 9,
   "metadata": {},
   "outputs": [],
   "source": [
    "########################################################\n",
    "# Visit the url for JPL Featured Space Image here.\n",
    "# Use splinter to navigate the site and find the image url for the current Featured Mars Image and assign the url string to a variable called featured_image_url.\n",
    "# Make sure to find the image url to the full size .jpg image.\n",
    "# Make sure to save a complete url string for this image.\n",
    "# # Example:\n",
    "# featured_image_url = 'https://www.jpl.nasa.gov/spaceimages/images/largesize/PIA16225_hires.jpg'\n",
    "\n",
    "def scrape_mars_image():\n",
    "    browser = init_browser()\n",
    "    url = 'https://www.jpl.nasa.gov/spaceimages/?search=&category=Mars'\n",
    "    browser.visit(url)\n",
    "    time.sleep(2)\n",
    "\n",
    "    #https://splinter.readthedocs.io/en/latest/elements-in-the-page.html\n",
    "    #.click_link_by_partial_text\n",
    "    #.click_link_by_text('my link')\n",
    "    browser.click_link_by_partial_text('FULL IMAGE') \n",
    "    time.sleep(2)\n",
    "    browser.click_link_by_partial_text('more info')\n",
    "    time.sleep(2)\n",
    "\n",
    "    # Scrape page into Soup\n",
    "    html = browser.html\n",
    "    feat_img_soup = bs(html, 'html.parser')\n",
    "    \n",
    "    featured_image_url = feat_img_soup.find('figure', class_='lede').a['href']\n",
    "    featured_full_image_url = f'https://www.jpl.nasa.gov{featured_image_url}'\n",
    "    \n",
    "    browser.quit()\n",
    "    return featured_full_image_url"
   ]
  },
  {
   "cell_type": "code",
   "execution_count": 10,
   "metadata": {},
   "outputs": [
    {
     "data": {
      "text/plain": [
       "'https://www.jpl.nasa.gov/spaceimages/images/largesize/PIA18452_hires.jpg'"
      ]
     },
     "execution_count": 10,
     "metadata": {},
     "output_type": "execute_result"
    }
   ],
   "source": [
    "scrape_mars_image()"
   ]
  },
  {
   "cell_type": "code",
   "execution_count": 11,
   "metadata": {},
   "outputs": [],
   "source": [
    "###########################################################\n",
    "# Mars Weather\n",
    "# Visit the Mars Weather twitter account here and scrape the latest Mars weather tweet from the page. \n",
    "# Save the tweet text for the weather report as a variable called mars_weather.\n",
    "# # Example:\n",
    "# mars_weather = 'Sol 1801 (Aug 30, 2017), Sunny, high -21C/-5F, low -80C/-112F, pressure at 8.82 hPa, daylight 06:09-17:55'\n",
    "# https://twitter.com/marswxreport?lang=en\n",
    "\n",
    "def scrape_mars_twitter():\n",
    "    browser = init_browser()\n",
    "    url = 'https://twitter.com/marswxreport?lang=en'\n",
    "    browser.visit(url)\n",
    "    time.sleep(2)\n",
    "\n",
    "    # Scrape page into Soup\n",
    "    html = browser.html\n",
    "    twitter_soup = bs(html, 'html.parser')\n",
    "    \n",
    "    #https://www.datacamp.com/community/tutorials/scraping-reddit-python-scrapy\n",
    "    #https://stackoverflow.com/questions/53586149/split-string-from-beautifulsoup-output-in-a-list\n",
    "    \n",
    "    # sometimes the tweet has an image which can result in a link in the text scraping\n",
    "    # the 'try' tries to extract and remove the image link via .find('a') if it's present\n",
    "    # if the image link is not present then 'except AttributeError' will kick in,\n",
    "    # which is just a straight forward scrape\n",
    "    try:\n",
    "        mars_weather = twitter_soup.find('p', class_='TweetTextSize')\n",
    "        mars_weather.find('a').extract()\n",
    "        mars_weather = mars_weather.text\n",
    "    except AttributeError:\n",
    "        mars_weather = twitter_soup.find('p', class_='TweetTextSize').text.replace('\\n', ' ')\n",
    "    browser.quit()\n",
    "    return mars_weather"
   ]
  },
  {
   "cell_type": "code",
   "execution_count": 12,
   "metadata": {},
   "outputs": [
    {
     "data": {
      "text/plain": [
       "'InSight sol 335 (2019-11-05) low -100.6ºC (-149.1ºF) high -24.3ºC (-11.8ºF) winds from the SSE at 4.9 m/s (10.9 mph) gusting to 19.9 m/s (44.5 mph) pressure at 6.90 hPa'"
      ]
     },
     "execution_count": 12,
     "metadata": {},
     "output_type": "execute_result"
    }
   ],
   "source": [
    "scrape_mars_twitter()"
   ]
  },
  {
   "cell_type": "code",
   "execution_count": 15,
   "metadata": {},
   "outputs": [],
   "source": [
    "############################################################\n",
    "# Mars Facts\n",
    "# Visit the Mars Facts webpage here and use Pandas to scrape the table containing facts about the planet \n",
    "# including Diameter, Mass, etc.\n",
    "# Use Pandas to convert the data to a HTML table string.\n",
    "\n",
    "def scrape_mars_facts():\n",
    "    browser = init_browser()\n",
    "    url = 'https://space-facts.com/mars/'\n",
    "    \n",
    "    mars_facts = pd.read_html(url)\n",
    "    mars_facts = mars_facts[0].rename(columns={0: \"Facts\", 1:\"Values\"})\n",
    "    \n",
    "    mars_facts.set_index('Facts', inplace=True)\n",
    "    mars_facts_html = mars_facts.to_html()\n",
    "    #return mars_df\n",
    "    browser.quit()\n",
    "    return mars_facts_html"
   ]
  },
  {
   "cell_type": "code",
   "execution_count": 16,
   "metadata": {},
   "outputs": [
    {
     "data": {
      "text/plain": [
       "'<table border=\"1\" class=\"dataframe\">\\n  <thead>\\n    <tr style=\"text-align: right;\">\\n      <th></th>\\n      <th>Values</th>\\n    </tr>\\n    <tr>\\n      <th>Facts</th>\\n      <th></th>\\n    </tr>\\n  </thead>\\n  <tbody>\\n    <tr>\\n      <th>Equatorial Diameter:</th>\\n      <td>6,792 km</td>\\n    </tr>\\n    <tr>\\n      <th>Polar Diameter:</th>\\n      <td>6,752 km</td>\\n    </tr>\\n    <tr>\\n      <th>Mass:</th>\\n      <td>6.39 × 10^23 kg (0.11 Earths)</td>\\n    </tr>\\n    <tr>\\n      <th>Moons:</th>\\n      <td>2 (Phobos &amp; Deimos)</td>\\n    </tr>\\n    <tr>\\n      <th>Orbit Distance:</th>\\n      <td>227,943,824 km (1.38 AU)</td>\\n    </tr>\\n    <tr>\\n      <th>Orbit Period:</th>\\n      <td>687 days (1.9 years)</td>\\n    </tr>\\n    <tr>\\n      <th>Surface Temperature:</th>\\n      <td>-87 to -5 °C</td>\\n    </tr>\\n    <tr>\\n      <th>First Record:</th>\\n      <td>2nd millennium BC</td>\\n    </tr>\\n    <tr>\\n      <th>Recorded By:</th>\\n      <td>Egyptian astronomers</td>\\n    </tr>\\n  </tbody>\\n</table>'"
      ]
     },
     "execution_count": 16,
     "metadata": {},
     "output_type": "execute_result"
    }
   ],
   "source": [
    "scrape_mars_facts()"
   ]
  },
  {
   "cell_type": "code",
   "execution_count": 17,
   "metadata": {},
   "outputs": [],
   "source": [
    "##############################################################\n",
    "# Mars Hemispheres\n",
    "# Visit the USGS Astrogeology site here to obtain high resolution images for each of Mar's hemispheres.\n",
    "# You will need to click each of the links to the hemispheres in order to find the image url to the full resolution image.\n",
    "# Save both the image url string for the full resolution hemisphere image, \n",
    "# and the Hemisphere title containing the hemisphere name. \n",
    "# Use a Python dictionary to store the data using the keys img_url and title.\n",
    "# Append the dictionary with the image url string and the hemisphere title to a list. This list will contain one dictionary for each hemisphere.\n",
    "# # Example:\n",
    "# hemisphere_image_urls = [\n",
    "#     {\"title\": \"Valles Marineris Hemisphere\", \"img_url\": \"...\"},\n",
    "#     {\"title\": \"Cerberus Hemisphere\", \"img_url\": \"...\"},\n",
    "#     {\"title\": \"Schiaparelli Hemisphere\", \"img_url\": \"...\"},\n",
    "#     {\"title\": \"Syrtis Major Hemisphere\", \"img_url\": \"...\"},\n",
    "# ]\n",
    "\n",
    "def mars_hemi():\n",
    "    browser = init_browser()\n",
    "    url = 'https://astrogeology.usgs.gov/search/results?q=hemisphere+enhanced&k1=target&v1=Mars'\n",
    "    browser.visit(url)\n",
    "    time.sleep(2)\n",
    "\n",
    "    # Scrape page into Soup\n",
    "    html = browser.html\n",
    "    hemi_soup = bs(html, 'html.parser')\n",
    "    \n",
    "    hemi_title_temp = []\n",
    "    hthrees = hemi_soup.find_all('h3')\n",
    "    \n",
    "    for i in hthrees:\n",
    "        hemi_title_temp.append(i.text)\n",
    "        \n",
    "    #pprint(hemi_title_temp)\n",
    "    \n",
    "    # Create an emtpy list named hemisphere_image_urls per guide\n",
    "    hemisphere_image_urls = []\n",
    "\n",
    "    # Loop through the hemisphere links to obtain the images\n",
    "    for k in hemi_title_temp:\n",
    "        # Create an empty dictionary for the hemisphere titles and urls\n",
    "        hemi_dict = {}\n",
    "        \n",
    "        # https://splinter.readthedocs.io/en/latest/finding.html\n",
    "        # Click on link by partial text (from the k-th entry in hemi_title)\n",
    "        browser.click_link_by_partial_text(k)\n",
    "        \n",
    "        # Put the the k-th title into dictionary\n",
    "        hemi_dict[\"title\"] = k\n",
    "        \n",
    "        # Look for the url string with text 'sample' and put into img_url part of the dict\n",
    "        # hemi_dict[\"img_url\"] = browser.find_by_text('Sample')['target'] #this returned '_blank' instead \n",
    "        hemi_dict[\"img_url\"] = browser.find_by_text('Sample')['href'] #works\n",
    "        \n",
    "        # Append to the hemi_dict, which has titles and img_urls, to the list hemisphere_image_urls\n",
    "        hemisphere_image_urls.append(hemi_dict)\n",
    "    \n",
    "        #pprint(hemisphere_image_urls)\n",
    "    \n",
    "        # Go back to the previous page to start the loop again\n",
    "        # https://splinter.readthedocs.io/en/latest/browser.html\n",
    "        browser.back()\n",
    "        time.sleep(1)\n",
    "    browser.quit()   \n",
    "    return hemisphere_image_urls"
   ]
  },
  {
   "cell_type": "code",
   "execution_count": 18,
   "metadata": {},
   "outputs": [
    {
     "data": {
      "text/plain": [
       "[{'title': 'Cerberus Hemisphere Enhanced',\n",
       "  'img_url': 'http://astropedia.astrogeology.usgs.gov/download/Mars/Viking/cerberus_enhanced.tif/full.jpg'},\n",
       " {'title': 'Schiaparelli Hemisphere Enhanced',\n",
       "  'img_url': 'http://astropedia.astrogeology.usgs.gov/download/Mars/Viking/schiaparelli_enhanced.tif/full.jpg'},\n",
       " {'title': 'Syrtis Major Hemisphere Enhanced',\n",
       "  'img_url': 'http://astropedia.astrogeology.usgs.gov/download/Mars/Viking/syrtis_major_enhanced.tif/full.jpg'},\n",
       " {'title': 'Valles Marineris Hemisphere Enhanced',\n",
       "  'img_url': 'http://astropedia.astrogeology.usgs.gov/download/Mars/Viking/valles_marineris_enhanced.tif/full.jpg'}]"
      ]
     },
     "execution_count": 18,
     "metadata": {},
     "output_type": "execute_result"
    }
   ],
   "source": [
    "mars_hemi()"
   ]
  }
 ],
 "metadata": {
  "kernelspec": {
   "display_name": "Python 3",
   "language": "python",
   "name": "python3"
  },
  "language_info": {
   "codemirror_mode": {
    "name": "ipython",
    "version": 3
   },
   "file_extension": ".py",
   "mimetype": "text/x-python",
   "name": "python",
   "nbconvert_exporter": "python",
   "pygments_lexer": "ipython3",
   "version": "3.7.3"
  }
 },
 "nbformat": 4,
 "nbformat_minor": 4
}
